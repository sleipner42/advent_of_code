{
 "cells": [
  {
   "cell_type": "code",
   "execution_count": 390,
   "metadata": {},
   "outputs": [],
   "source": [
    "import numpy as np\n",
    "\n",
    "with open('input.txt') as f:\n",
    "    data = f.read().splitlines()\n",
    "    \n",
    "data = [np.array(list(line)) for line in data]\n",
    "data = np.array(data)"
   ]
  },
  {
   "cell_type": "code",
   "execution_count": 385,
   "metadata": {},
   "outputs": [],
   "source": [
    "def check_visibility(x, y, data):\n",
    "    \n",
    "    dirs = {}\n",
    "    \n",
    "    dirs['up'] = np.flip(data[:x, y])\n",
    "    dirs['down'] = data[x + 1:, y]\n",
    "    \n",
    "    dirs['left'] = np.flip(data[x, :y])\n",
    "    dirs['right'] = data[x, y + 1:]\n",
    "    \n",
    "    dirs['diag1'] = np.diag(data[x + 1:, y + 1:])\n",
    "    dirs['diag2'] = np.diag(np.flip(data[:x, :y]))\n",
    "    \n",
    "    dirs['antidiag'] = np.diag(np.flip(data[x + 1:, :y], axis = 1))\n",
    "    dirs['antidiag2'] = np.diag(np.flip(data[:x, y + 1:], axis = 0))\n",
    "    \n",
    "    count = 0\n",
    "    \n",
    "    for key, direction in dirs.items():\n",
    "\n",
    "        for spot in direction:\n",
    "            if spot == 'L':\n",
    "                break\n",
    "            elif spot == '#':\n",
    "                count += 1\n",
    "                break\n",
    "                \n",
    "    return count\n",
    "\n",
    "converged = False\n",
    "\n",
    "prior = data.copy()\n",
    "posterior = data.copy()\n",
    "\n",
    "while not converged:\n",
    "    for x, line in enumerate(prior):\n",
    "        for y, place in enumerate(line):\n",
    "\n",
    "            neighboiurs = prior[max(x-1,0):x + 2, max(y-1, 0):y + 2]\n",
    "            neighboiurs = neighboiurs.flatten()\n",
    "\n",
    "            if place == 'L' and check_visibility(x, y, prior) == 0:\n",
    "\n",
    "                posterior[x,y] = '#'\n",
    "\n",
    "            elif place == '#' and check_visibility(x, y, prior) > 4:\n",
    "\n",
    "                posterior[x,y] = 'L'\n",
    "         \n",
    "    converged = (prior == posterior).all()\n",
    "    prior = posterior.copy()\n",
    "\n",
    "print((prior == '#').sum())"
   ]
  },
  {
   "cell_type": "code",
   "execution_count": 389,
   "metadata": {
    "scrolled": true
   },
   "outputs": [
    {
     "name": "stdout",
     "output_type": "stream",
     "text": [
      "2149\n"
     ]
    }
   ],
   "source": []
  }
 ],
 "metadata": {
  "kernelspec": {
   "display_name": "Python 3",
   "language": "python",
   "name": "python3"
  },
  "language_info": {
   "codemirror_mode": {
    "name": "ipython",
    "version": 3
   },
   "file_extension": ".py",
   "mimetype": "text/x-python",
   "name": "python",
   "nbconvert_exporter": "python",
   "pygments_lexer": "ipython3",
   "version": "3.9.0"
  }
 },
 "nbformat": 4,
 "nbformat_minor": 4
}
