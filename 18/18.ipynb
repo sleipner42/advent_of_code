{
 "cells": [
  {
   "cell_type": "code",
   "execution_count": 36,
   "metadata": {},
   "outputs": [],
   "source": [
    "import re\n",
    "import numpy as np\n",
    "\n",
    "with open('input.txt') as f:\n",
    "    data = f.read().splitlines()"
   ]
  },
  {
   "cell_type": "code",
   "execution_count": 37,
   "metadata": {},
   "outputs": [],
   "source": [
    "re.match(r'/^[-+]?\\d+$/',data[0])"
   ]
  },
  {
   "cell_type": "code",
   "execution_count": 149,
   "metadata": {},
   "outputs": [
    {
     "name": "stdout",
     "output_type": "stream",
     "text": [
      "1: 3647606140187\n",
      "2: 323802071857594\n"
     ]
    }
   ],
   "source": [
    "def evaluate_exp(expression):\n",
    "    \n",
    "    left = 0\n",
    "    split = expression.split()\n",
    "    \n",
    "    left = split[0]\n",
    "    split = split[1:]\n",
    "    \n",
    "    for a in range(int(len(split)/2)):\n",
    "        eva = f'{left} {split[a*2]} {split[a*2 + 1]}'\n",
    "        left = eval(eva)\n",
    "    return left\n",
    "\n",
    "def evaluate_exp_2(expression):\n",
    "    \n",
    "    split = expression.split()\n",
    "    new_exp = []\n",
    "    \n",
    "    n = 0\n",
    "    \n",
    "    while n < len(split):\n",
    "        \n",
    "        char = split[n]\n",
    "        \n",
    "        if char == '+':\n",
    "            eva = f'{new_exp[-1]}{char}{split[n + 1]}'\n",
    "            new_exp[-1] = str(eval(eva))\n",
    "            n += 2\n",
    "        else:\n",
    "            new_exp.append(char)\n",
    "            n += 1\n",
    "        \n",
    "    return eval(''.join(new_exp))\n",
    "    \n",
    "\n",
    "def find_parenthesis(exp, exp_func):\n",
    "    \n",
    "    start_index = 0\n",
    "    end_index = 0\n",
    "    \n",
    "    for index, a in enumerate(exp):\n",
    "        \n",
    "        if a == '(':\n",
    "            start_index = index\n",
    "        \n",
    "        if a == ')':\n",
    "            result = exp_func(exp[start_index + 1:index])\n",
    "            return f'{exp[0:start_index]}{result}{exp[index + 1:]}' \n",
    "        \n",
    "    return None\n",
    "    \n",
    "def solve(exp, exp_func):\n",
    "    \n",
    "    string = exp\n",
    "    con = True\n",
    "\n",
    "    while con:\n",
    "        new_string = find_parenthesis(string, exp_func)\n",
    "        if new_string == None:\n",
    "            con = False\n",
    "        else:\n",
    "            string = new_string\n",
    "\n",
    "    return exp_func(string)\n",
    "\n",
    "task1 = sum([solve(line, evaluate_exp) for line in data])\n",
    "print(f'1: {task1}')\n",
    "\n",
    "task2 = sum([solve(line, evaluate_exp_2) for line in data])\n",
    "print(f'2: {task2}')"
   ]
  }
 ],
 "metadata": {
  "kernelspec": {
   "display_name": "3.8.6",
   "language": "python",
   "name": "3.8.6"
  },
  "language_info": {
   "codemirror_mode": {
    "name": "ipython",
    "version": 3
   },
   "file_extension": ".py",
   "mimetype": "text/x-python",
   "name": "python",
   "nbconvert_exporter": "python",
   "pygments_lexer": "ipython3",
   "version": "3.8.6"
  }
 },
 "nbformat": 4,
 "nbformat_minor": 4
}
