{
 "cells": [
  {
   "cell_type": "code",
   "execution_count": 135,
   "metadata": {},
   "outputs": [],
   "source": [
    "import numpy as np\n",
    "import re"
   ]
  },
  {
   "cell_type": "code",
   "execution_count": 183,
   "metadata": {},
   "outputs": [],
   "source": [
    "with open(\"input.txt\") as f:\n",
    "    data = f.read()\n",
    "    \n",
    "data = data.split('\\n\\n')\n",
    "\n",
    "fields = set([\"byr\", \"iyr\", \"eyr\", \"hgt\", \"hcl\", \"ecl\", \"pid\"])\n",
    "eye_colors = [\"amb\", \"blu\", \"brn\", \"gry\", \"grn\", \"hzl\", \"oth\"]\n",
    "\n",
    "make_dict = lambda x: dict(item.split(\":\") for item in x)\n",
    "data = list(map(lambda x: make_dict(x.split()), data))\n",
    "\n",
    "correct_passports = list(filter(lambda x: len(fields - set(x.keys())) == 0,data))"
   ]
  },
  {
   "cell_type": "code",
   "execution_count": 352,
   "metadata": {},
   "outputs": [],
   "source": [
    "byr_controll = lambda x: int(x) >= 1920 and int(x) <= 2002\n",
    "iyr_controll = lambda x: int(x) >= 2010 and int(x) <= 2020\n",
    "eyr_controll = lambda x: int(x) >= 2020 and int(x) <= 2030\n",
    "\n",
    "def hgt_controll(hgt):\n",
    "    \n",
    "    if hgt.isdigit():\n",
    "        return False\n",
    "    \n",
    "    height = re.compile(\"([0-9]+)([a-zA-Z]+)\").match(hgt).groups()\n",
    "    \n",
    "    if height[1] == \"cm\":\n",
    "        if int(height[0]) < 150 or int(height[0]) > 193:\n",
    "            return False\n",
    "    elif height[1] == \"in\":\n",
    "        if int(height[0]) < 59 or int(height[0]) > 76:\n",
    "            return False\n",
    "    else:\n",
    "        return False\n",
    "    \n",
    "    return True\n",
    "\n",
    "controls = {\n",
    "    \"byr\" : byr_controll,\n",
    "    \"iyr\" : iyr_controll,\n",
    "    \"eyr\" : eyr_controll,\n",
    "}\n",
    "\n",
    "def validate(passport):\n",
    "    \n",
    "    print(\"\")\n",
    "    print(\"Passport controll\")\n",
    "    \n",
    "    for key, value in passport.items():\n",
    "       \n",
    "        if not controls[key](value):\n",
    "            print(f'Not correct {key}, {value}')\n",
    "    \n",
    "    \n",
    "    \n",
    "    height = re.compile(\"([0-9]+)([a-zA-Z]+)\").match(passport[\"hgt\"]).groups()\n",
    "    \n",
    "    if height[1] == \"cm\":\n",
    "        if int(height[0]) < 150 or int(height[0]) > 193:\n",
    "            return False\n",
    "    elif height[1] == \"in\":\n",
    "        if int(height[0]) < 59 or int(height[0]) > 76:\n",
    "            return False\n",
    "    else:\n",
    "        return False\n",
    "    \n",
    "    if not (passport['hcl'][0] == \"#\" and len(passport['hcl']) == 7):\n",
    "        return False\n",
    "    \n",
    "    hair_color = passport['hcl'][1:]\n",
    "    \n",
    "    if not re.compile('^[0-9a-f]+$').match(hair_color):\n",
    "        return False\n",
    "    \n",
    "    if not passport[\"ecl\"] in eye_colors:\n",
    "        return False\n",
    "    \n",
    "    if not len(passport[\"pid\"]) == 9 or not passport[\"pid\"].isdigit() or not passport[\"pid\"][0] == \"0\":\n",
    "        return False\n",
    "    \n",
    "    return True"
   ]
  },
  {
   "cell_type": "code",
   "execution_count": 353,
   "metadata": {},
   "outputs": [
    {
     "name": "stdout",
     "output_type": "stream",
     "text": [
      "\n",
      "Passport controll\n"
     ]
    },
    {
     "ename": "KeyError",
     "evalue": "'pid'",
     "output_type": "error",
     "traceback": [
      "\u001b[0;31m---------------------------------------------------------------------------\u001b[0m",
      "\u001b[0;31mKeyError\u001b[0m                                  Traceback (most recent call last)",
      "\u001b[0;32m<ipython-input-353-0c66138bf53b>\u001b[0m in \u001b[0;36m<module>\u001b[0;34m\u001b[0m\n\u001b[0;32m----> 1\u001b[0;31m \u001b[0mvalid_pass\u001b[0m \u001b[0;34m=\u001b[0m \u001b[0mlist\u001b[0m\u001b[0;34m(\u001b[0m\u001b[0mfilter\u001b[0m\u001b[0;34m(\u001b[0m\u001b[0mvalidate\u001b[0m\u001b[0;34m,\u001b[0m \u001b[0mcorrect_passports\u001b[0m\u001b[0;34m)\u001b[0m\u001b[0;34m)\u001b[0m\u001b[0;34m\u001b[0m\u001b[0;34m\u001b[0m\u001b[0m\n\u001b[0m",
      "\u001b[0;32m<ipython-input-352-b9efd1a9d324>\u001b[0m in \u001b[0;36mvalidate\u001b[0;34m(passport)\u001b[0m\n\u001b[1;32m     16\u001b[0m     \u001b[0;32mfor\u001b[0m \u001b[0mkey\u001b[0m\u001b[0;34m,\u001b[0m \u001b[0mvalue\u001b[0m \u001b[0;32min\u001b[0m \u001b[0mpassport\u001b[0m\u001b[0;34m.\u001b[0m\u001b[0mitems\u001b[0m\u001b[0;34m(\u001b[0m\u001b[0;34m)\u001b[0m\u001b[0;34m:\u001b[0m\u001b[0;34m\u001b[0m\u001b[0;34m\u001b[0m\u001b[0m\n\u001b[1;32m     17\u001b[0m \u001b[0;34m\u001b[0m\u001b[0m\n\u001b[0;32m---> 18\u001b[0;31m         \u001b[0;32mif\u001b[0m \u001b[0;32mnot\u001b[0m \u001b[0mcontrols\u001b[0m\u001b[0;34m[\u001b[0m\u001b[0mkey\u001b[0m\u001b[0;34m]\u001b[0m\u001b[0;34m(\u001b[0m\u001b[0mvalue\u001b[0m\u001b[0;34m)\u001b[0m\u001b[0;34m:\u001b[0m\u001b[0;34m\u001b[0m\u001b[0;34m\u001b[0m\u001b[0m\n\u001b[0m\u001b[1;32m     19\u001b[0m             \u001b[0mprint\u001b[0m\u001b[0;34m(\u001b[0m\u001b[0;34mf'Not correct {key}, {value}'\u001b[0m\u001b[0;34m)\u001b[0m\u001b[0;34m\u001b[0m\u001b[0;34m\u001b[0m\u001b[0m\n\u001b[1;32m     20\u001b[0m \u001b[0;34m\u001b[0m\u001b[0m\n",
      "\u001b[0;31mKeyError\u001b[0m: 'pid'"
     ]
    }
   ],
   "source": [
    "valid_pass = list(filter(validate, correct_passports))"
   ]
  },
  {
   "cell_type": "code",
   "execution_count": 345,
   "metadata": {},
   "outputs": [
    {
     "data": {
      "text/plain": [
       "True"
      ]
     },
     "execution_count": 345,
     "metadata": {},
     "output_type": "execute_result"
    }
   ],
   "source": [
    "controls['eyr'](2020)"
   ]
  },
  {
   "cell_type": "code",
   "execution_count": 339,
   "metadata": {},
   "outputs": [
    {
     "ename": "NameError",
     "evalue": "name 'valye' is not defined",
     "output_type": "error",
     "traceback": [
      "\u001b[0;31m---------------------------------------------------------------------------\u001b[0m",
      "\u001b[0;31mNameError\u001b[0m                                 Traceback (most recent call last)",
      "\u001b[0;32m<ipython-input-339-aec08605b16d>\u001b[0m in \u001b[0;36m<module>\u001b[0;34m\u001b[0m\n\u001b[1;32m      1\u001b[0m \u001b[0;32mfor\u001b[0m \u001b[0mvalue\u001b[0m\u001b[0;34m,\u001b[0m \u001b[0mkey\u001b[0m \u001b[0;32min\u001b[0m \u001b[0mcorrect_passports\u001b[0m\u001b[0;34m[\u001b[0m\u001b[0;36m0\u001b[0m\u001b[0;34m]\u001b[0m\u001b[0;34m.\u001b[0m\u001b[0mitems\u001b[0m\u001b[0;34m(\u001b[0m\u001b[0;34m)\u001b[0m\u001b[0;34m:\u001b[0m\u001b[0;34m\u001b[0m\u001b[0;34m\u001b[0m\u001b[0m\n\u001b[0;32m----> 2\u001b[0;31m     \u001b[0mprint\u001b[0m\u001b[0;34m(\u001b[0m\u001b[0mvalye\u001b[0m\u001b[0;34m)\u001b[0m\u001b[0;34m\u001b[0m\u001b[0;34m\u001b[0m\u001b[0m\n\u001b[0m",
      "\u001b[0;31mNameError\u001b[0m: name 'valye' is not defined"
     ]
    }
   ],
   "source": [
    "for value, key in correct_passports[0].items():\n",
    "    print(valye)"
   ]
  },
  {
   "cell_type": "code",
   "execution_count": null,
   "metadata": {},
   "outputs": [],
   "source": []
  }
 ],
 "metadata": {
  "kernelspec": {
   "display_name": "Python 3",
   "language": "python",
   "name": "python3"
  },
  "language_info": {
   "codemirror_mode": {
    "name": "ipython",
    "version": 3
   },
   "file_extension": ".py",
   "mimetype": "text/x-python",
   "name": "python",
   "nbconvert_exporter": "python",
   "pygments_lexer": "ipython3",
   "version": "3.7.3"
  }
 },
 "nbformat": 4,
 "nbformat_minor": 4
}
