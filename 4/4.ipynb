{
 "cells": [
  {
   "cell_type": "code",
   "execution_count": 135,
   "metadata": {},
   "outputs": [],
   "source": [
    "import numpy as np\n",
    "import re"
   ]
  },
  {
   "cell_type": "code",
   "execution_count": 374,
   "metadata": {},
   "outputs": [
    {
     "data": {
      "text/plain": [
       "200"
      ]
     },
     "execution_count": 374,
     "metadata": {},
     "output_type": "execute_result"
    }
   ],
   "source": [
    "with open(\"input.txt\") as f:\n",
    "    data = f.read()\n",
    "    \n",
    "data = data.split('\\n\\n')\n",
    "\n",
    "fields = set([\"byr\", \"iyr\", \"eyr\", \"hgt\", \"hcl\", \"ecl\", \"pid\"])\n",
    "\n",
    "make_dict = lambda x: dict(item.split(\":\") for item in x)\n",
    "data = list(map(lambda x: make_dict(x.split()), data))\n",
    "\n",
    "correct_passports = list(filter(lambda x: len(fields - set(x.keys())) == 0,data))\n",
    "len(correct_passports)"
   ]
  },
  {
   "cell_type": "code",
   "execution_count": 375,
   "metadata": {},
   "outputs": [
    {
     "data": {
      "text/plain": [
       "116"
      ]
     },
     "execution_count": 375,
     "metadata": {},
     "output_type": "execute_result"
    }
   ],
   "source": [
    "def hgt_controll(hgt):\n",
    "    \n",
    "    if hgt.isdigit():\n",
    "        return False\n",
    "    \n",
    "    height = re.compile(\"([0-9]+)([a-zA-Z]+)\").match(hgt).groups()\n",
    "    \n",
    "    if height[1] == \"cm\":\n",
    "        if int(height[0]) < 150 or int(height[0]) > 193:\n",
    "            return False\n",
    "    elif height[1] == \"in\":\n",
    "        if int(height[0]) < 59 or int(height[0]) > 76:\n",
    "            return False\n",
    "    else:\n",
    "        return False\n",
    "    \n",
    "    return True\n",
    "\n",
    "controls = {\n",
    "    \"byr\" : lambda x: int(x) >= 1920 and int(x) <= 2002,\n",
    "    \"iyr\" : lambda x: int(x) >= 2010 and int(x) <= 2020,\n",
    "    \"eyr\" : lambda x: int(x) >= 2020 and int(x) <= 2030,\n",
    "    \"hgt\" : hgt_controll,\n",
    "    \"hcl\" : lambda x: x[0] == \"#\" and len(x) == 7 and re.compile('^[0-9a-f]+$').match(x[1:]),\n",
    "    \"pid\" : lambda x: len(x) == 9 and x.isdigit(),\n",
    "    \"ecl\" : lambda x: x in [\"amb\", \"blu\", \"brn\", \"gry\", \"grn\", \"hzl\", \"oth\"],\n",
    "    \"cid\" : lambda x: True\n",
    "}\n",
    "\n",
    "def validate(passport):\n",
    "    \n",
    "    for key, value in passport.items():\n",
    "        if not controls[key](value):\n",
    "            return False\n",
    "        \n",
    "    return True\n",
    "\n",
    "valid_pass = list(filter(validate, correct_passports))\n",
    "len(valid_pass)"
   ]
  },
  {
   "cell_type": "code",
   "execution_count": null,
   "metadata": {},
   "outputs": [],
   "source": []
  }
 ],
 "metadata": {
  "kernelspec": {
   "display_name": "Python 3",
   "language": "python",
   "name": "python3"
  },
  "language_info": {
   "codemirror_mode": {
    "name": "ipython",
    "version": 3
   },
   "file_extension": ".py",
   "mimetype": "text/x-python",
   "name": "python",
   "nbconvert_exporter": "python",
   "pygments_lexer": "ipython3",
   "version": "3.7.3"
  }
 },
 "nbformat": 4,
 "nbformat_minor": 4
}
