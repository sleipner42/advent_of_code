{
 "cells": [
  {
   "cell_type": "code",
   "execution_count": 165,
   "metadata": {},
   "outputs": [
    {
     "name": "stdout",
     "output_type": "stream",
     "text": [
      "Max seat: 874.0\n",
      "Your seat: {594}\n"
     ]
    }
   ],
   "source": [
    "import numpy as np\n",
    "\n",
    "with open(\"input.txt\") as f:\n",
    "    data = f.read().splitlines()\n",
    " \n",
    "data = [[seat[0:-3].replace(\"F\", \"0\").replace(\"B\", \"1\"), \n",
    "         seat[-3:].replace(\"R\", \"1\").replace(\"L\", \"0\")] for seat in data]\n",
    "\n",
    "rows = np.arange(128)\n",
    "seats = np.arange(8)\n",
    "\n",
    "decoded = np.zeros((len(data), 2))\n",
    "\n",
    "for index, ticket in enumerate(data):\n",
    "    \n",
    "    row = rows\n",
    "    seat = seats\n",
    "    \n",
    "    for n in ticket[0]:\n",
    "        row = np.split(row, 2)[int(n)]\n",
    "    \n",
    "    for n in ticket[1]:\n",
    "        seat = np.split(seat, 2)[int(n)]\n",
    "    \n",
    "    decoded[index, 0] = row\n",
    "    decoded[index, 1] = seat\n",
    "\n",
    "occ_seat_ids = (decoded[:,0] * 8 + decoded[:,1])\n",
    "avail_seat_ids = []\n",
    "\n",
    "for n in rows:\n",
    "    for i in seats:\n",
    "        avail_seat_ids.append(n * 8 + i)\n",
    "        \n",
    "avail_seat_ids = set(filter(lambda x: x < occ_seat_ids.max() and x > occ_seat_ids.min(), avail_seat_ids))\n",
    "print(f'Max seat: {occ_seat_ids.max()}')\n",
    "print(f'Your seat: {avail_seat_ids - set(occ_seat_ids)}')"
   ]
  }
 ],
 "metadata": {
  "kernelspec": {
   "display_name": "Python 3",
   "language": "python",
   "name": "python3"
  },
  "language_info": {
   "codemirror_mode": {
    "name": "ipython",
    "version": 3
   },
   "file_extension": ".py",
   "mimetype": "text/x-python",
   "name": "python",
   "nbconvert_exporter": "python",
   "pygments_lexer": "ipython3",
   "version": "3.7.3"
  }
 },
 "nbformat": 4,
 "nbformat_minor": 4
}
