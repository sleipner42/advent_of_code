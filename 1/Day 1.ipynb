{
 "cells": [
  {
   "cell_type": "code",
   "execution_count": 17,
   "metadata": {},
   "outputs": [],
   "source": [
    "import pandas as pd\n",
    "import requests\n",
    "\n",
    "import numpy as np"
   ]
  },
  {
   "cell_type": "code",
   "execution_count": 90,
   "metadata": {},
   "outputs": [],
   "source": [
    "with open('data.txt') as f:\n",
    "    lines = f.read().splitlines()\n",
    "    \n",
    "lines = np.array(lines).astype(int)\n",
    "lines.sort()"
   ]
  },
  {
   "cell_type": "code",
   "execution_count": 93,
   "metadata": {},
   "outputs": [
    {
     "name": "stdout",
     "output_type": "stream",
     "text": [
      "FOUND\n",
      "290784\n"
     ]
    }
   ],
   "source": [
    "below_1000 = lines[lines < 1000]\n",
    "over_1000 = lines[lines >= 1000]\n",
    "over_1000 = over_1000[over_1000 < (2020 - min(below_1000))]\n",
    "\n",
    "for n in below_1000:\n",
    "    \n",
    "    search = over_1000 + n\n",
    "    \n",
    "    if (search == 2020).any():\n",
    "        print(\"FOUND\")\n",
    "        \n",
    "        output = (2020 - n) * n\n",
    "        \n",
    "        print(output)"
   ]
  },
  {
   "cell_type": "code",
   "execution_count": 98,
   "metadata": {},
   "outputs": [
    {
     "name": "stdout",
     "output_type": "stream",
     "text": [
      "FOUND\n",
      "177337980\n",
      "FOUND\n",
      "177337980\n"
     ]
    }
   ],
   "source": [
    "for n in below_1000:\n",
    "    for a in below_1000:\n",
    "        \n",
    "        su = n+a\n",
    "        \n",
    "        search = over_1000 + su\n",
    "        \n",
    "        if (search == 2020).any():\n",
    "            \n",
    "            print(\"FOUND\")\n",
    "\n",
    "            output = (2020 - su) * n * a\n",
    "\n",
    "            print(output)"
   ]
  },
  {
   "cell_type": "code",
   "execution_count": 99,
   "metadata": {},
   "outputs": [
    {
     "data": {
      "text/plain": [
       "array([ 61, 156, 166, 279, 422, 521, 597, 770, 784, 879])"
      ]
     },
     "execution_count": 99,
     "metadata": {},
     "output_type": "execute_result"
    }
   ],
   "source": [
    "below_1000"
   ]
  },
  {
   "cell_type": "code",
   "execution_count": null,
   "metadata": {},
   "outputs": [],
   "source": []
  }
 ],
 "metadata": {
  "kernelspec": {
   "display_name": "Python 3",
   "language": "python",
   "name": "python3"
  },
  "language_info": {
   "codemirror_mode": {
    "name": "ipython",
    "version": 3
   },
   "file_extension": ".py",
   "mimetype": "text/x-python",
   "name": "python",
   "nbconvert_exporter": "python",
   "pygments_lexer": "ipython3",
   "version": "3.7.3"
  }
 },
 "nbformat": 4,
 "nbformat_minor": 4
}
