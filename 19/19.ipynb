{
 "cells": [
  {
   "cell_type": "code",
   "execution_count": 98,
   "metadata": {},
   "outputs": [],
   "source": [
    "import re\n",
    "\n",
    "with open('input.txt') as f:\n",
    "    \n",
    "    data = f.read()\n",
    "    \n",
    "data = '''0: 4 1 5\n",
    "1: 2 3 | 3 2\n",
    "2: 4 4 | 5 5\n",
    "3: 4 5 | 5 4\n",
    "4: \"a\"\n",
    "5: \"b\"'''"
   ]
  },
  {
   "cell_type": "code",
   "execution_count": 99,
   "metadata": {},
   "outputs": [],
   "source": [
    "rules = data.split('\\n\\n')[0].splitlines()\n",
    "#mess = data.split('\\n\\n')[1].splitlines()\n",
    "\n",
    "rules = {int(line.split(':')[0]) : line.split(': ')[1].replace('\"', '') for line in rules}"
   ]
  },
  {
   "cell_type": "code",
   "execution_count": 105,
   "metadata": {},
   "outputs": [],
   "source": [
    "working = rules.copy()\n",
    "#fixed = [99,36]\n",
    "fixed = [4, 5]\n",
    "new_fixed = []\n",
    "\n",
    "while len(fixed) > 0:\n",
    "    \n",
    "    for key in working.keys():\n",
    "        \n",
    "        for to_check in fixed:\n",
    "            \n",
    "            if working[key].find(str(to_check)) > -1:\n",
    "                \n",
    "                replacement = [working[to_check]]\n",
    "                \n",
    "                working[key] = working[key].replace(str(to_check), )\n",
    "                \n",
    "                if not bool(re.search(r'\\d', working[key])):\n",
    "                    new_fixed.append(key)\n",
    "                    \n",
    "    fixed = new_fixed.copy()\n",
    "    new_fixed = []"
   ]
  },
  {
   "cell_type": "code",
   "execution_count": 109,
   "metadata": {},
   "outputs": [
    {
     "data": {
      "text/plain": [
       "{0: '4 1 5', 1: '2 3 | 3 2', 2: '4 4 | 5 5', 3: '4 5 | 5 4', 4: 'a', 5: 'b'}"
      ]
     },
     "execution_count": 109,
     "metadata": {},
     "output_type": "execute_result"
    }
   ],
   "source": [
    "rules"
   ]
  },
  {
   "cell_type": "code",
   "execution_count": 82,
   "metadata": {},
   "outputs": [
    {
     "data": {
      "text/plain": [
       "'36 32'"
      ]
     },
     "execution_count": 82,
     "metadata": {},
     "output_type": "execute_result"
    }
   ],
   "source": [
    "rules[63]"
   ]
  },
  {
   "cell_type": "code",
   "execution_count": null,
   "metadata": {},
   "outputs": [],
   "source": []
  }
 ],
 "metadata": {
  "kernelspec": {
   "display_name": "3.8.6",
   "language": "python",
   "name": "3.8.6"
  },
  "language_info": {
   "codemirror_mode": {
    "name": "ipython",
    "version": 3
   },
   "file_extension": ".py",
   "mimetype": "text/x-python",
   "name": "python",
   "nbconvert_exporter": "python",
   "pygments_lexer": "ipython3",
   "version": "3.8.6"
  }
 },
 "nbformat": 4,
 "nbformat_minor": 4
}
