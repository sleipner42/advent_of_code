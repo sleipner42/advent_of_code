{
 "cells": [
  {
   "cell_type": "code",
   "execution_count": 1,
   "metadata": {},
   "outputs": [],
   "source": [
    "import numpy as np"
   ]
  },
  {
   "cell_type": "code",
   "execution_count": 80,
   "metadata": {},
   "outputs": [
    {
     "name": "stdout",
     "output_type": "stream",
     "text": [
      " Q1: 6911\n",
      " Q2: 3473\n"
     ]
    }
   ],
   "source": [
    "with open('input.txt') as f:\n",
    "    data = f.read()\n",
    "\n",
    "groups = data.split('\\n\\n')\n",
    "\n",
    "answers_per_group = [group.replace('\\n', '') for group in groups]\n",
    "answers_per_group = [len(set(group)) for group in answers_per_group]\n",
    "\n",
    "print(f' Q1: {np.array(answers_per_group).sum()}')\n",
    "\n",
    "persons_per_group = [group.split('\\n') for group in groups]\n",
    "common_answers = [len(set(group[0]).intersection(*group[1:])) for group in persons_per_group]\n",
    "\n",
    "print(f' Q2: {np.array(common_answers).sum()}')"
   ]
  },
  {
   "cell_type": "code",
   "execution_count": null,
   "metadata": {},
   "outputs": [],
   "source": []
  }
 ],
 "metadata": {
  "kernelspec": {
   "display_name": "Python 3",
   "language": "python",
   "name": "python3"
  },
  "language_info": {
   "codemirror_mode": {
    "name": "ipython",
    "version": 3
   },
   "file_extension": ".py",
   "mimetype": "text/x-python",
   "name": "python",
   "nbconvert_exporter": "python",
   "pygments_lexer": "ipython3",
   "version": "3.9.0"
  }
 },
 "nbformat": 4,
 "nbformat_minor": 4
}
