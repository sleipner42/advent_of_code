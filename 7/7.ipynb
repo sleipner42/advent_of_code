{
 "cells": [
  {
   "cell_type": "code",
   "execution_count": 160,
   "metadata": {},
   "outputs": [],
   "source": [
    "import re\n",
    "\n",
    "with open(\"input.txt\") as f:\n",
    "    data = f.read()"
   ]
  },
  {
   "cell_type": "code",
   "execution_count": 161,
   "metadata": {},
   "outputs": [],
   "source": [
    "# Replace all \"bags\" with \"bag\"\n",
    "data = data.replace(\"bags\", \"bag\").replace(\".\", \"\")\n",
    "data = data.splitlines()\n",
    "\n",
    "bags_dict = {}\n",
    "\n",
    "regex = re.compile(\"([\\s*0-9]+)([\\s*a-zA-Z]+)\")\n",
    "\n",
    "def fix_bags(rule):\n",
    "    \n",
    "    split = rule.split(\" contain \")\n",
    "    bag = split[0]\n",
    "    inner_bags = split[1].split(\",\")\n",
    "    \n",
    "    inner_bags_dict = {}\n",
    "    \n",
    "    for b in inner_bags:\n",
    "        \n",
    "        if b == \"no other bag\": continue\n",
    "        test = regex.match(b.strip()).groups()\n",
    "        \n",
    "        inner_bags_dict[test[1].strip()] = int(test[0].strip())\n",
    "        \n",
    "    \n",
    "    bags_dict[bag.strip()] = inner_bags_dict  \n",
    "    \n",
    "for line in data:\n",
    "    fix_bags(line)"
   ]
  },
  {
   "cell_type": "code",
   "execution_count": 162,
   "metadata": {},
   "outputs": [
    {
     "name": "stdout",
     "output_type": "stream",
     "text": [
      "155\n",
      "54803\n"
     ]
    }
   ],
   "source": [
    "def contains_gold(bag):\n",
    "\n",
    "    bags_to_check = bags_dict[bag].keys()\n",
    "    \n",
    "    if \"shiny gold bag\" in bags_to_check:\n",
    "        return 1\n",
    "    else:\n",
    "        for b in bags_to_check:\n",
    "            if contains_gold(b) == 1:\n",
    "                return 1\n",
    "        else:\n",
    "            return 0\n",
    "        \n",
    "def count_bags_inside(bag):\n",
    "    \n",
    "    if len(bags_dict[bag]) == 0:\n",
    "        return 0\n",
    "    \n",
    "    total_bags_inside = 0\n",
    "    \n",
    "    for b, nr in bags_dict[bag].items():\n",
    "        total_bags_inside += nr + count_bags_inside(b) * nr\n",
    "\n",
    "    return total_bags_inside\n",
    "\n",
    "print(sum([contains_gold(bag) for bag in bags_dict.keys()]))\n",
    "print(count_bags_inside(\"shiny gold bag\"))"
   ]
  },
  {
   "cell_type": "code",
   "execution_count": null,
   "metadata": {},
   "outputs": [],
   "source": []
  }
 ],
 "metadata": {
  "kernelspec": {
   "display_name": "myenv",
   "language": "python",
   "name": "myenv"
  },
  "language_info": {
   "codemirror_mode": {
    "name": "ipython",
    "version": 3
   },
   "file_extension": ".py",
   "mimetype": "text/x-python",
   "name": "python",
   "nbconvert_exporter": "python",
   "pygments_lexer": "ipython3",
   "version": "3.7.3"
  }
 },
 "nbformat": 4,
 "nbformat_minor": 4
}
