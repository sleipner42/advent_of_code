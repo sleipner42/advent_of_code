{
 "cells": [
  {
   "cell_type": "code",
   "execution_count": 55,
   "metadata": {},
   "outputs": [
    {
     "name": "stdout",
     "output_type": "stream",
     "text": [
      "6818112000\n"
     ]
    }
   ],
   "source": [
    "import numpy as np\n",
    "\n",
    "with open(\"input.csv\") as f:\n",
    "    data = f.read().splitlines()\n",
    "    \n",
    "data = [list(word) for word in data]\n",
    "data = np.array(data)\n",
    "\n",
    "def get_trees(right, left):\n",
    "\n",
    "    tree_counter = 0\n",
    "    x_position = 0\n",
    "    y_position = 0\n",
    "\n",
    "    while y_position < data.shape[0] - 1:\n",
    "\n",
    "        x_position += right\n",
    "        x_position = x_position%data.shape[1]\n",
    "        y_position += left\n",
    "\n",
    "        pos = data[y_position, x_position]\n",
    "\n",
    "        if(pos == \"#\"):\n",
    "            tree_counter += 1\n",
    "            \n",
    "    return tree_counter\n",
    "\n",
    "print(get_trees(1, 1) * get_trees(3, 1) * get_trees(5, 1) * get_trees(7, 1) * get_trees(1, 2))"
   ]
  },
  {
   "cell_type": "markdown",
   "metadata": {},
   "source": [
    "    Right 1, down 1.\n",
    "    Right 3, down 1. (This is the slope you already checked.)\n",
    "    Right 5, down 1.\n",
    "    Right 7, down 1.\n",
    "    Right 1, down 2."
   ]
  },
  {
   "cell_type": "code",
   "execution_count": 53,
   "metadata": {},
   "outputs": [
    {
     "data": {
      "text/plain": [
       "array([['.', '#', '.', ..., '#', '.', '.'],\n",
       "       ['.', '.', '.', ..., '.', '.', '.'],\n",
       "       ['#', '.', '#', ..., '#', '.', '.'],\n",
       "       ...,\n",
       "       ['.', '.', '#', ..., '.', '.', '.'],\n",
       "       ['.', '#', '#', ..., '.', '.', '.'],\n",
       "       ['.', '.', '#', ..., '#', '.', '#']], dtype='<U1')"
      ]
     },
     "execution_count": 53,
     "metadata": {},
     "output_type": "execute_result"
    }
   ],
   "source": [
    "data"
   ]
  },
  {
   "cell_type": "code",
   "execution_count": null,
   "metadata": {},
   "outputs": [],
   "source": []
  }
 ],
 "metadata": {
  "kernelspec": {
   "display_name": "Python 3",
   "language": "python",
   "name": "python3"
  },
  "language_info": {
   "codemirror_mode": {
    "name": "ipython",
    "version": 3
   },
   "file_extension": ".py",
   "mimetype": "text/x-python",
   "name": "python",
   "nbconvert_exporter": "python",
   "pygments_lexer": "ipython3",
   "version": "3.7.3"
  }
 },
 "nbformat": 4,
 "nbformat_minor": 4
}
