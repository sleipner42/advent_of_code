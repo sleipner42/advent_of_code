{
 "cells": [
  {
   "cell_type": "code",
   "execution_count": 169,
   "metadata": {},
   "outputs": [
    {
     "name": "stdout",
     "output_type": "stream",
     "text": [
      "1690\n"
     ]
    }
   ],
   "source": [
    "import numpy as np\n",
    "\n",
    "with open(\"input.txt\") as f:\n",
    "    data = f.read().splitlines()\n",
    "\n",
    "data = np.array(data).astype(int)\n",
    "data = np.concatenate(([0, data.max() + 3], data))\n",
    "data.sort()\n",
    "device_joltage = data.max() + 3\n",
    "\n",
    "diff = np.diff(data)\n",
    "diff_3 = len(diff[diff == 3])\n",
    "diff_1 = len(diff[diff == 1])\n",
    "\n",
    "print(diff_3 * diff_1)"
   ]
  },
  {
   "cell_type": "code",
   "execution_count": 225,
   "metadata": {},
   "outputs": [],
   "source": [
    "tested_combinations = {}\n",
    "\n",
    "def count_possibilities(adapters):\n",
    "    \n",
    "    max_adapter = adapters.max()\n",
    "    \n",
    "    if len(adapters) == 0: \n",
    "        return 0\n",
    "\n",
    "    if max_adapter == 0:\n",
    "        return 1\n",
    "    \n",
    "    tested_before = tested_combinations.get(str(adapters))\n",
    "    \n",
    "    if tested_before is not None:\n",
    "        return tested_before\n",
    "    \n",
    "    possible_ways = adapters[(adapters < max_adapter) & (adapters >= max_adapter - 3)]\n",
    "\n",
    "    if len(possible_ways) == 0:\n",
    "        return 0\n",
    "    else: \n",
    "        \n",
    "        total_count = 0\n",
    "    \n",
    "        for way in possible_ways:\n",
    "            \n",
    "            possible_adapters = adapters[adapters <= way]\n",
    "            count = count_possibilities(possible_adapters)\n",
    "            \n",
    "            total_count += count\n",
    "        \n",
    "        tested_combinations[str(adapters)] = total_count\n",
    "        \n",
    "        return total_count"
   ]
  },
  {
   "cell_type": "code",
   "execution_count": 240,
   "metadata": {},
   "outputs": [
    {
     "name": "stdout",
     "output_type": "stream",
     "text": [
      "CPU times: user 4 µs, sys: 1 µs, total: 5 µs\n",
      "Wall time: 6.91 µs\n"
     ]
    },
    {
     "data": {
      "text/plain": [
       "5289227976704"
      ]
     },
     "execution_count": 240,
     "metadata": {},
     "output_type": "execute_result"
    }
   ],
   "source": [
    "%time\n",
    "count_possibilities(data)"
   ]
  },
  {
   "cell_type": "code",
   "execution_count": null,
   "metadata": {},
   "outputs": [],
   "source": []
  }
 ],
 "metadata": {
  "kernelspec": {
   "display_name": "myenv",
   "language": "python",
   "name": "myenv"
  },
  "language_info": {
   "codemirror_mode": {
    "name": "ipython",
    "version": 3
   },
   "file_extension": ".py",
   "mimetype": "text/x-python",
   "name": "python",
   "nbconvert_exporter": "python",
   "pygments_lexer": "ipython3",
   "version": "3.7.3"
  }
 },
 "nbformat": 4,
 "nbformat_minor": 4
}
