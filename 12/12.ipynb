{
 "cells": [
  {
   "cell_type": "code",
   "execution_count": 115,
   "metadata": {},
   "outputs": [],
   "source": [
    "import re\n",
    "import numpy as np\n",
    "\n",
    "with open('input.txt') as f:\n",
    "    data = f.read().split()\n",
    "\n",
    "regex = re.compile(\"([NWSELRF]+)([0-9]+)\")\n",
    "data = [regex.match(item).groups() for item in data]\n",
    "\n",
    "degrees = {\n",
    "    90 : np.array([1,0]),\n",
    "    180: np.array([0,-1]),\n",
    "    270: np.array([-1,0]),\n",
    "    0: np.array([0,1]),\n",
    "    360: np.array([0,1])\n",
    "}\n",
    "\n",
    "directions = {\n",
    "    'E' : np.array([1,0]),\n",
    "    'S': np.array([0,-1]),\n",
    "    'W': np.array([-1,0]),\n",
    "    'N': np.array([0,1])\n",
    "}"
   ]
  },
  {
   "cell_type": "code",
   "execution_count": 110,
   "metadata": {},
   "outputs": [
    {
     "name": "stdout",
     "output_type": "stream",
     "text": [
      "25\n"
     ]
    }
   ],
   "source": [
    "heading = 90\n",
    "position = np.array([0,0])\n",
    "\n",
    "for line in data:\n",
    "    \n",
    "    instruction = line[0]\n",
    "    movement = int(line[1])\n",
    "    \n",
    "    if instruction == 'R':\n",
    "        heading = (heading + movement)%360\n",
    "    elif instruction == 'L':\n",
    "        heading = (heading - movement)%360\n",
    "    elif instruction == 'F':\n",
    "        position += degrees[heading] * movement\n",
    "    else:\n",
    "        position += directions[instruction] * movement\n",
    "\n",
    "print(np.abs(position).sum())"
   ]
  },
  {
   "cell_type": "code",
   "execution_count": 116,
   "metadata": {},
   "outputs": [
    {
     "name": "stdout",
     "output_type": "stream",
     "text": [
      "58605.99999999996\n"
     ]
    }
   ],
   "source": [
    "waypoint_positions = np.array([10,1])\n",
    "heading = 90\n",
    "position = np.array([0.,0.])\n",
    "rot_matrix = lambda x: np.array([[np.cos(x), -np.sin(x)],[np.sin(x), np.cos(x)]])\n",
    "\n",
    "for line in data:\n",
    "    \n",
    "    instruction = line[0]\n",
    "    movement = int(line[1])\n",
    "    \n",
    "    if instruction == 'R':\n",
    "        waypoint_positions = rot_matrix(np.deg2rad(-movement)) @ waypoint_positions\n",
    "    elif instruction == 'L':\n",
    "        waypoint_positions = rot_matrix(np.deg2rad(movement)) @ waypoint_positions\n",
    "    elif instruction == 'F':\n",
    "        position += waypoint_positions * movement\n",
    "    else:\n",
    "        waypoint_positions += directions[instruction] * movement\n",
    "\n",
    "print(np.abs(position).sum())\n"
   ]
  }
 ],
 "metadata": {
  "kernelspec": {
   "display_name": "3.8.6",
   "language": "python",
   "name": "3.8.6"
  },
  "language_info": {
   "codemirror_mode": {
    "name": "ipython",
    "version": 3
   },
   "file_extension": ".py",
   "mimetype": "text/x-python",
   "name": "python",
   "nbconvert_exporter": "python",
   "pygments_lexer": "ipython3",
   "version": "3.8.6"
  }
 },
 "nbformat": 4,
 "nbformat_minor": 4
}
