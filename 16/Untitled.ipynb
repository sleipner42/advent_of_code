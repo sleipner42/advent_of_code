{
 "cells": [
  {
   "cell_type": "code",
   "execution_count": 253,
   "metadata": {},
   "outputs": [
    {
     "data": {
      "text/plain": [
       "'class: 0-1 or 4-19\\nrow: 0-5 or 8-19\\nseat: 0-13 or 16-19\\n\\nyour ticket:\\n11,12,13\\n\\nnearby tickets:\\n3,9,18\\n15,1,5\\n5,14,9'"
      ]
     },
     "execution_count": 253,
     "metadata": {},
     "output_type": "execute_result"
    }
   ],
   "source": [
    "import numpy as np\n",
    "import pandas as pd\n",
    "\n",
    "with open('input.txt') as f:\n",
    "    data = f.read()\n",
    "  \n",
    "#data = \n",
    "'''class: 0-1 or 4-19\n",
    "row: 0-5 or 8-19\n",
    "seat: 0-13 or 16-19\n",
    "\n",
    "your ticket:\n",
    "11,12,13\n",
    "\n",
    "nearby tickets:\n",
    "3,9,18\n",
    "15,1,5\n",
    "5,14,9'''"
   ]
  },
  {
   "cell_type": "code",
   "execution_count": 262,
   "metadata": {},
   "outputs": [
    {
     "name": "stdout",
     "output_type": "stream",
     "text": [
      "First 24110\n",
      "Second: 6766503490793\n"
     ]
    }
   ],
   "source": [
    "rules = data.split(\"\\n\\n\")[0]\n",
    "your_ticket = data.split(\"\\n\\n\")[1]\n",
    "your_ticket = np.array(your_ticket.split('\\n')[1].split(','), dtype=int)\n",
    "tickets = data.split(\"\\n\\n\")[2]\n",
    "\n",
    "rules = {text.split(\":\")[0] : text.split(\": \")[1] for text in rules.splitlines()}\n",
    "tickets = tickets.split(\":\\n\")[1]\n",
    "\n",
    "tickets = [[int(t) for t in ticket.split(\",\")] for ticket in tickets.splitlines()]\n",
    "\n",
    "rules_dict = {}\n",
    "\n",
    "for key, value in rules.items():\n",
    "    \n",
    "    ranges = value.split(\" or \")\n",
    "    r1 = ranges[0].split(\"-\")\n",
    "    r2 = ranges[1].split(\"-\")\n",
    "    \n",
    "    arr1 = np.arange(int(r1[0]), int(r1[1]) + 1)\n",
    "    arr2 = np.arange(int(r2[0]), int(r2[1]) + 1)\n",
    "    \n",
    "    arr = np.concatenate((arr1, arr2))\n",
    "    \n",
    "    rule = dict.fromkeys(arr, 0)\n",
    "    rules_dict = {**rules_dict, **rule}\n",
    "    rules[key] = set(arr)\n",
    "    \n",
    "rules_set = set(rules_dict)\n",
    "\n",
    "inv_sum = 0\n",
    "valid_tickets = []\n",
    "\n",
    "for ticket in tickets:\n",
    "    \n",
    "    invalid_fields = set(ticket) - rules_set\n",
    "    inv_sum += sum(invalid_fields)\n",
    "    \n",
    "    if len(invalid_fields) == 0:\n",
    "        valid_tickets.append(ticket)\n",
    "\n",
    "print(f'First {inv_sum}')\n",
    "ticket_matrix = np.array(valid_tickets)\n",
    "\n",
    "check = pd.DataFrame(columns = rules.keys())\n",
    "check[\"field\"] = np.arange(len(rules))\n",
    "check.set_index(\"field\", inplace=True)        \n",
    "\n",
    "for field, rule in rules.items():\n",
    "    for index, row in enumerate(ticket_matrix.T):\n",
    "        \n",
    "        correct = len(set(row) - rule) == 0\n",
    "        check.loc[index, field] = correct\n",
    "        \n",
    "correct_id = pd.DataFrame(index = rules.keys(), columns = ['Correct Field'])\n",
    "\n",
    "for index, row in check.loc[check.sum(axis=1).sort_values().index].iterrows():\n",
    "    fields_left = correct_id['Correct Field'].isna()\n",
    "    correct_field = row.loc[(fields_left) & (row == True)]\n",
    "    \n",
    "    correct_id.loc[correct_field.index[0]] = index\n",
    "    \n",
    "deps = list(correct_id.loc[correct_id.index.str.contains('departure'), 'Correct Field'])\n",
    "print(f'Second: {np.array(your_ticket)[deps].prod()}')"
   ]
  }
 ],
 "metadata": {
  "kernelspec": {
   "display_name": "myenv",
   "language": "python",
   "name": "myenv"
  },
  "language_info": {
   "codemirror_mode": {
    "name": "ipython",
    "version": 3
   },
   "file_extension": ".py",
   "mimetype": "text/x-python",
   "name": "python",
   "nbconvert_exporter": "python",
   "pygments_lexer": "ipython3",
   "version": "3.7.3"
  }
 },
 "nbformat": 4,
 "nbformat_minor": 4
}
