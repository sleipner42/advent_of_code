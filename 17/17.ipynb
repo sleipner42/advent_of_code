{
 "cells": [
  {
   "cell_type": "code",
   "execution_count": 83,
   "metadata": {},
   "outputs": [],
   "source": [
    "import numpy as np\n",
    "from tqdm import tqdm\n",
    "\n",
    "with open('input') as f:\n",
    "    data = f.read()\n",
    "    \n",
    "#data = '''.#.\n",
    "#..#\n",
    "####'''"
   ]
  },
  {
   "cell_type": "code",
   "execution_count": 84,
   "metadata": {},
   "outputs": [],
   "source": [
    "data = data.replace(\".\", \"0\").replace(\"#\", \"1\")\n",
    "start = np.array([np.array(list(line)) for line in data.splitlines()], dtype=int)"
   ]
  },
  {
   "cell_type": "code",
   "execution_count": 85,
   "metadata": {},
   "outputs": [
    {
     "data": {
      "text/plain": [
       "213"
      ]
     },
     "execution_count": 85,
     "metadata": {},
     "output_type": "execute_result"
    }
   ],
   "source": [
    "prior = np.array([start])\n",
    "posterior = None\n",
    "\n",
    "for n in range(6):\n",
    "    \n",
    "    prior = np.pad(prior, 2)\n",
    "    shape = prior.shape\n",
    "    \n",
    "    posterior = prior.copy()\n",
    "    for x, x_val in enumerate(prior):\n",
    "        for y, y_val in enumerate(x_val):\n",
    "            for z, value in enumerate(y_val):\n",
    "                \n",
    "                if (x > 0 and y > 0 and z > 0 and \n",
    "                    x < shape[0] - 1 and y < shape[1] - 1 and z < shape[2] - 1):\n",
    "                    \n",
    "                    # Get neighbours\n",
    "                    neighbours = []\n",
    "                    \n",
    "                    #print()\n",
    "                    #print([x,y,z])\n",
    "                    \n",
    "                    for x_n in range(x-1, x + 2):\n",
    "                        for y_n in range(y-1, y+2):\n",
    "                            for z_n in range(z-1, z+2):\n",
    "                                #print([x_n, y_n, z_n])\n",
    "                                if x_n == x and y_n == y and z_n == z:\n",
    "                                    pass\n",
    "                                else:\n",
    "                                    neighbours.append(prior[x_n, y_n, z_n])\n",
    "                    \n",
    "                    #if sum(neighbours) > 0: print(sum(neighbours))\n",
    "                    \n",
    "                    if value == 1 and sum(neighbours) != 2 and sum(neighbours) != 3:\n",
    "                        posterior[x, y, z] = 0\n",
    "                    elif value == 0 and sum(neighbours) == 3:\n",
    "                        posterior[x, y, z] = 1\n",
    "                        \n",
    "    prior = posterior.copy()\n",
    "\n",
    "prior.sum()"
   ]
  },
  {
   "cell_type": "code",
   "execution_count": 86,
   "metadata": {},
   "outputs": [
    {
     "name": "stderr",
     "output_type": "stream",
     "text": [
      "5it [00:00, 75.76it/s]\n",
      "9it [00:00, 14.91it/s]\n",
      "13it [00:02,  5.41it/s]\n",
      "17it [00:06,  2.58it/s]\n",
      "21it [00:14,  1.42it/s]\n",
      "25it [00:29,  1.19s/it]\n"
     ]
    },
    {
     "data": {
      "text/plain": [
       "1624"
      ]
     },
     "execution_count": 86,
     "metadata": {},
     "output_type": "execute_result"
    }
   ],
   "source": [
    "prior = np.array([[start]])\n",
    "posterior = None\n",
    "\n",
    "for n in range(6):\n",
    "    \n",
    "    prior = np.pad(prior, 2)\n",
    "    shape = prior.shape\n",
    "    \n",
    "    posterior = prior.copy()\n",
    "    \n",
    "    for x, x_val in tqdm(enumerate(prior)):\n",
    "        for y, y_val in enumerate(x_val):\n",
    "            for z, z_val in enumerate(y_val):\n",
    "                for w, value in enumerate(z_val):\n",
    "                \n",
    "                    if (x > 0 and y > 0 and z > 0 and w > 0 and\n",
    "                        x < shape[0] - 1 and y < shape[1] - 1 and z < shape[2] - 1 and w < shape[3] - 1):\n",
    "\n",
    "                        # Get neighbours\n",
    "                        neighbours = []\n",
    "\n",
    "                        for x_n in range(x-1, x + 2):\n",
    "                            for y_n in range(y-1, y+2):\n",
    "                                for z_n in range(z-1, z+2):\n",
    "                                    for w_n in range(w-1, w+2):\n",
    "                                        if x_n == x and y_n == y and z_n == z and w_n == w:\n",
    "                                            pass\n",
    "                                        else:\n",
    "                                            neighbours.append(prior[x_n, y_n, z_n, w_n])\n",
    "\n",
    "                        if value == 1 and sum(neighbours) != 2 and sum(neighbours) != 3:\n",
    "                            posterior[x, y, z, w] = 0\n",
    "                        elif value == 0 and sum(neighbours) == 3:\n",
    "                            posterior[x, y, z, w] = 1\n",
    "                        \n",
    "    prior = posterior.copy()\n",
    "\n",
    "prior.sum()\n",
    "                        "
   ]
  },
  {
   "cell_type": "code",
   "execution_count": 82,
   "metadata": {},
   "outputs": [
    {
     "data": {
      "text/plain": [
       "80"
      ]
     },
     "execution_count": 82,
     "metadata": {},
     "output_type": "execute_result"
    }
   ],
   "source": [
    "len(neighbours)"
   ]
  },
  {
   "cell_type": "code",
   "execution_count": null,
   "metadata": {},
   "outputs": [],
   "source": []
  }
 ],
 "metadata": {
  "kernelspec": {
   "display_name": "3.8.6",
   "language": "python",
   "name": "3.8.6"
  },
  "language_info": {
   "codemirror_mode": {
    "name": "ipython",
    "version": 3
   },
   "file_extension": ".py",
   "mimetype": "text/x-python",
   "name": "python",
   "nbconvert_exporter": "python",
   "pygments_lexer": "ipython3",
   "version": "3.8.6"
  }
 },
 "nbformat": 4,
 "nbformat_minor": 4
}
