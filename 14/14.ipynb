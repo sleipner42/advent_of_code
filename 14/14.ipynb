{
 "cells": [
  {
   "cell_type": "code",
   "execution_count": 227,
   "metadata": {},
   "outputs": [],
   "source": [
    "import numpy as np\n",
    "import itertools\n",
    "\n",
    "with open('input.txt') as f:\n",
    "    data = f.read()\n",
    "\n",
    "instructions = []\n",
    "current_object = None\n",
    "\n",
    "for line in data.splitlines():\n",
    "    \n",
    "    action, value = line.split(' = ')\n",
    "    \n",
    "    if action == 'mask':\n",
    "        # Store old value\n",
    "        if current_object != None:\n",
    "            instructions.append(current_object)\n",
    "        \n",
    "        current_object = {}\n",
    "        current_object['mask'] = np.array(list(value))\n",
    "        current_object['ins'] = []\n",
    "    \n",
    "    else:\n",
    "        current_object['ins'].append({'mem' : int(action[4:-1]), \n",
    "                                      'val': np.array(list(np.binary_repr(int(value), 36))).astype(int)})\n",
    "        \n",
    "instructions.append(current_object)"
   ]
  },
  {
   "cell_type": "code",
   "execution_count": 228,
   "metadata": {},
   "outputs": [
    {
     "data": {
      "text/plain": [
       "13476250121721"
      ]
     },
     "execution_count": 228,
     "metadata": {},
     "output_type": "execute_result"
    }
   ],
   "source": [
    "memory = {}\n",
    "\n",
    "for ins in instructions:\n",
    "    \n",
    "    mask = ins['mask']\n",
    "    np_mask = mask != 'X'\n",
    "    \n",
    "    for i in ins['ins']:\n",
    "        \n",
    "        mem = i['mem']\n",
    "        output_value = i['val'].copy()\n",
    "        \n",
    "        output_value[np_mask] = mask[np_mask].astype(int)\n",
    "        \n",
    "        # Cast to int\n",
    "        memory[mem] = int(''.join(output_value.astype(str)), 2)\n",
    "\n",
    "sum(memory.values())"
   ]
  },
  {
   "cell_type": "code",
   "execution_count": 229,
   "metadata": {},
   "outputs": [
    {
     "data": {
      "text/plain": [
       "4463708436768"
      ]
     },
     "execution_count": 229,
     "metadata": {},
     "output_type": "execute_result"
    }
   ],
   "source": [
    "memory = {}\n",
    "\n",
    "for ins in instructions:\n",
    "    \n",
    "    mask = ins['mask']\n",
    "    np_mask = mask == '0'\n",
    "    \n",
    "    for i in ins['ins']:\n",
    "        \n",
    "        adress = i['mem']\n",
    "        adress = np.array(list(np.binary_repr(adress, 36))).astype(int)\n",
    "        \n",
    "        result = mask.copy()\n",
    "        result[np_mask] = adress[np_mask]\n",
    "        \n",
    "        floating = np.argwhere(result == 'X').flatten()\n",
    "        possible_combinations = list(itertools.product([0, 1], repeat=len(floating)))\n",
    "        \n",
    "        for combination in possible_combinations:\n",
    "            \n",
    "            new_result = result.copy()\n",
    "            new_result[floating] = combination\n",
    "            new_result = int(''.join(new_result), 2)\n",
    "            \n",
    "            memory[new_result] = int(''.join(i['val'].astype(str)),2)\n",
    "            \n",
    "sum(memory.values())"
   ]
  },
  {
   "cell_type": "code",
   "execution_count": null,
   "metadata": {},
   "outputs": [],
   "source": []
  }
 ],
 "metadata": {
  "kernelspec": {
   "display_name": "3.8.6",
   "language": "python",
   "name": "3.8.6"
  },
  "language_info": {
   "codemirror_mode": {
    "name": "ipython",
    "version": 3
   },
   "file_extension": ".py",
   "mimetype": "text/x-python",
   "name": "python",
   "nbconvert_exporter": "python",
   "pygments_lexer": "ipython3",
   "version": "3.8.6"
  }
 },
 "nbformat": 4,
 "nbformat_minor": 4
}
