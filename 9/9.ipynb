{
 "cells": [
  {
   "cell_type": "code",
   "execution_count": 17,
   "metadata": {},
   "outputs": [],
   "source": [
    "import numpy as np\n",
    "\n",
    "with open(\"input.txt\") as f:\n",
    "    data = f.read().splitlines()\n",
    "\n",
    "data = np.array(data).astype(int)"
   ]
  },
  {
   "cell_type": "code",
   "execution_count": 41,
   "metadata": {},
   "outputs": [
    {
     "name": "stdout",
     "output_type": "stream",
     "text": [
      "69316178\n"
     ]
    }
   ],
   "source": [
    "def two_sum(numbers, target):\n",
    "    \n",
    "    hash_map = {}\n",
    "    for n in range(len(numbers)):\n",
    "        \n",
    "        diff = target - numbers[n]\n",
    "        obj = hash_map.get(diff)\n",
    "        \n",
    "        if obj is not None:\n",
    "            if obj != n:\n",
    "                return True\n",
    "            \n",
    "        hash_map[numbers[n]] = n\n",
    "    \n",
    "    return False\n",
    "\n",
    "for n in range(25, len(data)):\n",
    "    \n",
    "    target = data[n]\n",
    "    numbers = data[n-25:n]\n",
    "    \n",
    "    if not two_sum(numbers,target):\n",
    "        print(target)\n",
    "        break"
   ]
  },
  {
   "cell_type": "code",
   "execution_count": 75,
   "metadata": {},
   "outputs": [
    {
     "name": "stdout",
     "output_type": "stream",
     "text": [
      "Max: 6516690, min 2834836, sum: 9351526\n"
     ]
    }
   ],
   "source": [
    "answer_1 = 69316178\n",
    "max_index = np.arange(len(data))[(data < answer_1)].max()\n",
    "new_data = data[:max_index]\n",
    "\n",
    "for window_size in range(1, len(new_data) + 1):\n",
    "    for i in range(len(new_data) - window_size):\n",
    "        \n",
    "        rolling = new_data[i:i + window_size]\n",
    "        rolling_sum = rolling.sum()\n",
    "        \n",
    "        if rolling_sum == answer_1:\n",
    "            print(f'Max: {rolling.max()}, min {rolling.min()}, sum: {rolling.max() + rolling.min()}')\n",
    "            break"
   ]
  }
 ],
 "metadata": {
  "kernelspec": {
   "display_name": "myenv",
   "language": "python",
   "name": "myenv"
  },
  "language_info": {
   "codemirror_mode": {
    "name": "ipython",
    "version": 3
   },
   "file_extension": ".py",
   "mimetype": "text/x-python",
   "name": "python",
   "nbconvert_exporter": "python",
   "pygments_lexer": "ipython3",
   "version": "3.7.3"
  }
 },
 "nbformat": 4,
 "nbformat_minor": 4
}
