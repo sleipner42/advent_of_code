{
 "cells": [
  {
   "cell_type": "code",
   "execution_count": 108,
   "metadata": {},
   "outputs": [
    {
     "name": "stdout",
     "output_type": "stream",
     "text": [
      "Result: 333\n",
      "[ 3 12 10 14  0 23 19 60 29]\n",
      "[ 13  17  19  23  29  37  41 443 467]\n"
     ]
    }
   ],
   "source": [
    "import numpy as np\n",
    "from scipy import optimize\n",
    "from sympy.solvers.diophantine import diophantine\n",
    "from sympy import symbols\n",
    "\n",
    "with open('input.txt') as f:\n",
    "    data = f.read().split()\n",
    "    \n",
    "dep = int(data[0])\n",
    "\n",
    "busses = np.array([int(buss) for buss in data[1].split(',') if buss.isdigit()])\n",
    "\n",
    "time_to_next = busses - (dep % busses)\n",
    "waiting_time = time_to_next.min()\n",
    "next_buss = busses[np.argmin(time_to_next)]\n",
    "\n",
    "print(f'Result: {next_buss * waiting_time}')\n",
    "\n",
    "mask = np.char.isdigit(data[1].split(','))\n",
    "timesteps = np.arange(len(mask))\n",
    "\n",
    "timesteps = timesteps[mask]\n",
    "\n",
    "busses = busses\n",
    "timesteps = timesteps\n",
    "\n",
    "arg_sort = busses.argsort()\n",
    "timesteps = timesteps[arg_sort]\n",
    "busses = busses[arg_sort]\n",
    "\n",
    "timesteps = timesteps % busses\n",
    "\n",
    "print(timesteps)\n",
    "print(busses)"
   ]
  },
  {
   "cell_type": "code",
   "execution_count": 137,
   "metadata": {},
   "outputs": [
    {
     "name": "stdout",
     "output_type": "stream",
     "text": [
      "21.6 ms ± 133 µs per loop (mean ± std. dev. of 7 runs, 10 loops each)\n"
     ]
    }
   ],
   "source": [
    "%%timeit\n",
    "step_size = busses[np.argmin(timesteps)]\n",
    "time_step = 0\n",
    "converged = False\n",
    "\n",
    "mask = timesteps != 0\n",
    "\n",
    "while not converged:\n",
    "    \n",
    "    time_since_last = (time_step % busses)\n",
    "    time_to_next = busses - time_since_last\n",
    "    to_zero = time_to_next - timesteps\n",
    "        \n",
    "    zero_busses = busses[mask][to_zero[mask] == 0]\n",
    "\n",
    "    if len(zero_busses > 0):\n",
    "        step_size = zero_busses.prod() * busses[~mask]\n",
    "\n",
    "    converged = (to_zero[mask] == 0).all()\n",
    "\n",
    "    time_step += step_size"
   ]
  },
  {
   "cell_type": "code",
   "execution_count": null,
   "metadata": {},
   "outputs": [],
   "source": []
  }
 ],
 "metadata": {
  "kernelspec": {
   "display_name": "3.8.6",
   "language": "python",
   "name": "3.8.6"
  },
  "language_info": {
   "codemirror_mode": {
    "name": "ipython",
    "version": 3
   },
   "file_extension": ".py",
   "mimetype": "text/x-python",
   "name": "python",
   "nbconvert_exporter": "python",
   "pygments_lexer": "ipython3",
   "version": "3.8.6"
  }
 },
 "nbformat": 4,
 "nbformat_minor": 4
}
