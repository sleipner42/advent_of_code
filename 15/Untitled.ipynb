{
 "cells": [
  {
   "cell_type": "code",
   "execution_count": 77,
   "metadata": {},
   "outputs": [],
   "source": [
    "import numpy as np\n",
    "import matplotlib.pyplot as plt\n",
    "\n",
    "from tqdm import tqdm\n",
    "\n",
    "start_numbers = [9,3,1,0,8,4]\n",
    "#start_numbers = [0,3,6]\n",
    "rounds = 30000000\n"
   ]
  },
  {
   "cell_type": "code",
   "execution_count": 78,
   "metadata": {},
   "outputs": [
    {
     "name": "stderr",
     "output_type": "stream",
     "text": [
      "100%|██████████| 30000000/30000000 [01:11<00:00, 417282.37it/s]"
     ]
    },
    {
     "name": "stdout",
     "output_type": "stream",
     "text": [
      "352.0\n"
     ]
    },
    {
     "name": "stderr",
     "output_type": "stream",
     "text": [
      "\n"
     ]
    }
   ],
   "source": [
    "numbers_told = np.zeros(rounds)\n",
    "numbers_told_dict = {}\n",
    "\n",
    "def add_new_number(spoken_number, round_number):\n",
    "    \n",
    "    numbers_told[round_number] = spoken_number\n",
    "    number_told_array = numbers_told_dict.get(spoken_number)\n",
    "\n",
    "    if number_told_array == None:\n",
    "        numbers_told_dict[spoken_number] = [n]\n",
    "    else:\n",
    "        numbers_told_dict.get(spoken_number).append(n)\n",
    "\n",
    "for n in tqdm(range(rounds)):\n",
    "    \n",
    "    if n < len(start_numbers):\n",
    "        add_new_number(start_numbers[n], n)\n",
    "    else:\n",
    "        last_number = numbers_told[n-1]\n",
    "        told_before = numbers_told_dict.get(last_number)\n",
    "        \n",
    "        if len(told_before) == 1:\n",
    "            add_new_number(0, n)\n",
    "        else:\n",
    "            spoken_number = told_before[-1] - told_before[-2]\n",
    "            add_new_number(spoken_number, n)\n",
    "\n",
    "print(numbers_told[-1])   \n",
    "    "
   ]
  }
 ],
 "metadata": {
  "kernelspec": {
   "display_name": "myenv",
   "language": "python",
   "name": "myenv"
  },
  "language_info": {
   "codemirror_mode": {
    "name": "ipython",
    "version": 3
   },
   "file_extension": ".py",
   "mimetype": "text/x-python",
   "name": "python",
   "nbconvert_exporter": "python",
   "pygments_lexer": "ipython3",
   "version": "3.7.3"
  }
 },
 "nbformat": 4,
 "nbformat_minor": 4
}
